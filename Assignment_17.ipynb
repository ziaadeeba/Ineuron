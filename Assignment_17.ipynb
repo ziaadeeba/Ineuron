{
 "cells": [
  {
   "cell_type": "code",
   "execution_count": 1,
   "id": "471c2d19",
   "metadata": {},
   "outputs": [
    {
     "name": "stdout",
     "output_type": "stream",
     "text": [
      "just right\n"
     ]
    }
   ],
   "source": [
    "'''1. Assign the value 7 to the variable guess_me. Then, write the conditional tests (if, else, and elif) to\n",
    "print the string \"too low\"; if guess_me is less than 7, \"too high\"; if greater than 7, and & \"just right\" if equal\n",
    "to 7.'''\n",
    "guess_me=7\n",
    "if guess_me<7:\n",
    "    print(\"too low\")\n",
    "elif guess_me==7:\n",
    "    print(\"just right\")\n",
    "else:\n",
    "    print(\"too high\")"
   ]
  },
  {
   "cell_type": "code",
   "execution_count": 2,
   "id": "435e9561",
   "metadata": {},
   "outputs": [
    {
     "name": "stdout",
     "output_type": "stream",
     "text": [
      "too low 1\n",
      "too low 2\n",
      "too low 3\n",
      "too low 4\n",
      "too low 5\n",
      "too low 6\n",
      "found it!\n"
     ]
    }
   ],
   "source": [
    "'''2. Assign the value 7 to the variable guess_me and the value 1 to the variable start. Write a while\n",
    "loop that compares start with guess_me. Print too low if start is less than guess me. If start equals\n",
    "guess_me, print \"found it!\"\" and exit the loop. If start is greater than guess_me, print \"oops\" and exit\n",
    "the loop. Increment start at the end of the loop.'''\n",
    "\n",
    "\n",
    "guess_me=7\n",
    "start=1\n",
    "while start<guess_me:\n",
    "    print(\"too low\",start)\n",
    "    start=start+1\n",
    "    if start==guess_me:\n",
    "        break\n",
    "print(\"found it!\")"
   ]
  },
  {
   "cell_type": "code",
   "execution_count": 3,
   "id": "3938f4c7",
   "metadata": {},
   "outputs": [
    {
     "name": "stdout",
     "output_type": "stream",
     "text": [
      "3\n",
      "2\n",
      "1\n",
      "0\n"
     ]
    }
   ],
   "source": [
    "'''3. Print the following values of the list [3, 2, 1, 0] using a for loop.'''\n",
    "\n",
    "list1=[3,2,1,0]\n",
    "for i in list1:\n",
    "    print(i)"
   ]
  },
  {
   "cell_type": "code",
   "execution_count": 4,
   "id": "effdb702",
   "metadata": {},
   "outputs": [
    {
     "data": {
      "text/plain": [
       "[0, 2, 4, 6, 8]"
      ]
     },
     "execution_count": 4,
     "metadata": {},
     "output_type": "execute_result"
    }
   ],
   "source": [
    "'''4. Use a list comprehension to make a list of the even numbers in range(10)'''\n",
    "\n",
    "[i for i in range(0,10,2)]"
   ]
  },
  {
   "cell_type": "code",
   "execution_count": 5,
   "id": "23e61bb0",
   "metadata": {},
   "outputs": [
    {
     "name": "stdout",
     "output_type": "stream",
     "text": [
      "{0: 0, 1: 1, 2: 4, 3: 9, 4: 16, 5: 25, 6: 36, 7: 49, 8: 64, 9: 81}\n"
     ]
    }
   ],
   "source": [
    "'''5. Use a dictionary comprehension to create the dictionary squares. Use range(10) to return the\n",
    "keys, and use the square of each key as its value.'''\n",
    "key=[x for x in range(10)]\n",
    "value=[x*x for x in range(10)]\n",
    "myDict={k:v for (k,v) in zip(key,value)}\n",
    "print(myDict)"
   ]
  },
  {
   "cell_type": "code",
   "execution_count": 6,
   "id": "3ff020ae",
   "metadata": {},
   "outputs": [
    {
     "name": "stdout",
     "output_type": "stream",
     "text": [
      "{1, 3, 5, 7, 9}\n"
     ]
    }
   ],
   "source": [
    "'''6. Construct the set odd from the odd numbers in the range using a set comprehension (10).'''\n",
    "list1=[x for x in range(10)]\n",
    "set_comprehension={num for num in list1 if num%2!=0}\n",
    "print(set_comprehension)"
   ]
  },
  {
   "cell_type": "code",
   "execution_count": 7,
   "id": "09a113fe",
   "metadata": {},
   "outputs": [
    {
     "name": "stdout",
     "output_type": "stream",
     "text": [
      "got 9\n"
     ]
    }
   ],
   "source": [
    "'''7. Use a generator comprehension to return the string 'Got' and a number for the numbers in\n",
    "range(10). Iterate through this by using a for loop.'''\n",
    "list2=[x for x in range(10)]\n",
    "gen_comprehension=(num for num in list2 if (num%9==0 and num!=0))\n",
    "for num in gen_comprehension:\n",
    "    print(\"got\"+ \" \"+str(num))"
   ]
  },
  {
   "cell_type": "code",
   "execution_count": null,
   "id": "3c96985f",
   "metadata": {},
   "outputs": [],
   "source": []
  },
  {
   "cell_type": "code",
   "execution_count": null,
   "id": "3d65b682",
   "metadata": {},
   "outputs": [],
   "source": []
  },
  {
   "cell_type": "code",
   "execution_count": 8,
   "id": "755c09ae",
   "metadata": {},
   "outputs": [
    {
     "data": {
      "text/plain": [
       "['Harry', 'Ron', 'hermoine']"
      ]
     },
     "execution_count": 8,
     "metadata": {},
     "output_type": "execute_result"
    }
   ],
   "source": [
    "'''8. Define a function called good that returns the list [\"Harry\",\"Ron\",\"Hermoine\"]'''\n",
    "\n",
    "def good():\n",
    "    list1=['Harry','Ron','hermoine']\n",
    "    return list1\n",
    "\n",
    "good()"
   ]
  },
  {
   "cell_type": "code",
   "execution_count": 9,
   "id": "febe3f22",
   "metadata": {},
   "outputs": [
    {
     "name": "stdout",
     "output_type": "stream",
     "text": [
      "1\n",
      "3\n",
      "5\n",
      "7\n",
      "9\n"
     ]
    }
   ],
   "source": [
    "'''9. Define a generator function called get_odds that returns the odd numbers from range(10). Use a\n",
    "for loop to find and print the third value returned.'''\n",
    "def get_odds(n):\n",
    "    for i in range(n):\n",
    "        if i%2!=0:\n",
    "            yield i \n",
    "get_odds(10)\n",
    "for i in get_odds(10):\n",
    "    print(i)"
   ]
  },
  {
   "cell_type": "code",
   "execution_count": 10,
   "id": "08923d15",
   "metadata": {},
   "outputs": [
    {
     "name": "stdout",
     "output_type": "stream",
     "text": [
      "3\n",
      "9\n"
     ]
    }
   ],
   "source": [
    "for i in get_odds(10):\n",
    "    if i%3==0:\n",
    "        print(i)"
   ]
  },
  {
   "cell_type": "code",
   "execution_count": null,
   "id": "17b1bedd",
   "metadata": {},
   "outputs": [],
   "source": []
  },
  {
   "cell_type": "code",
   "execution_count": 13,
   "id": "4d5c2689",
   "metadata": {},
   "outputs": [],
   "source": [
    "'''10. Define an exception called OopsException. Raise this exception to see what happens. Then write\n",
    "the code to catch this exception and print 'Caught an oops'''\n",
    "class Error(Exception):\n",
    "    pass\n",
    "class OopsException(Error):\n",
    "    pass"
   ]
  },
  {
   "cell_type": "code",
   "execution_count": 14,
   "id": "8d3023d5",
   "metadata": {},
   "outputs": [
    {
     "name": "stdout",
     "output_type": "stream",
     "text": [
      "Enter your english marks65\n",
      "Enter your english marks98\n",
      "Congratulations you passed in language\n"
     ]
    }
   ],
   "source": [
    "eng_marks=int(input(\"Enter your english marks\"))\n",
    "hindi_marks=int(input(\"Enter your english marks\"))\n",
    "try:\n",
    "    if (eng_marks+hindi_marks)/2>=60:\n",
    "        print(\"Congratulations you passed in language\")\n",
    "    else:\n",
    "        raise OopsException\n",
    "except OopsException:\n",
    "    print(\"Caught an Oops\")"
   ]
  },
  {
   "cell_type": "code",
   "execution_count": 15,
   "id": "810ce5b0",
   "metadata": {},
   "outputs": [
    {
     "name": "stdout",
     "output_type": "stream",
     "text": [
      "{' Creature of Habit': 'A nun turns into a monster', 'Crewel Fate': 'A haunted yarn shop'}\n"
     ]
    }
   ],
   "source": [
    "'''11. Use zip() to make a dictionary called movies that pairs these lists: titles = [\"Creature of Habit\",\"Crewel Fate\"] and plots = [\"A nun turns into a monster\",\"A haunted yarn shop\"].'''\n",
    "titles=[' Creature of Habit','Crewel Fate']\n",
    "plots=['A nun turns into a monster','A haunted yarn shop']\n",
    "movies=dict(zip(titles,plots))\n",
    "print(movies)"
   ]
  },
  {
   "cell_type": "code",
   "execution_count": null,
   "id": "375b72b8",
   "metadata": {},
   "outputs": [],
   "source": []
  }
 ],
 "metadata": {
  "kernelspec": {
   "display_name": "Python 3 (ipykernel)",
   "language": "python",
   "name": "python3"
  },
  "language_info": {
   "codemirror_mode": {
    "name": "ipython",
    "version": 3
   },
   "file_extension": ".py",
   "mimetype": "text/x-python",
   "name": "python",
   "nbconvert_exporter": "python",
   "pygments_lexer": "ipython3",
   "version": "3.9.7"
  }
 },
 "nbformat": 4,
 "nbformat_minor": 5
}
