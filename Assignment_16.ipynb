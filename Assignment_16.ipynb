{
 "cells": [
  {
   "cell_type": "code",
   "execution_count": 26,
   "id": "73e7dfa7",
   "metadata": {},
   "outputs": [
    {
     "name": "stdout",
     "output_type": "stream",
     "text": [
      "[1999, 2000, 2001, 2002, 2003]\n"
     ]
    }
   ],
   "source": [
    "'''1. Create a list called years_list, starting with the year of your birth, and each year thereafter until\n",
    "the year of your fifth birthday. For example, if you were born in 1980. the list would be years_list =\n",
    "[1980, 1981, 1982, 1983, 1984, 1985].\n",
    "years=range(1999,2023)'''\n",
    "\n",
    "\n",
    "years_list=[]\n",
    "for i in year_list:\n",
    "    if i<=2003:\n",
    "        years_list.append(i)\n",
    "print(years_list)"
   ]
  },
  {
   "cell_type": "code",
   "execution_count": 27,
   "id": "265b2efa",
   "metadata": {},
   "outputs": [
    {
     "data": {
      "text/plain": [
       "2002"
      ]
     },
     "execution_count": 27,
     "metadata": {},
     "output_type": "execute_result"
    }
   ],
   "source": [
    "'''2. In which year in years_list was your third birthday? Remember, you were 0 years of age for your\n",
    "first year.'''\n",
    "\n",
    "\n",
    "years_list[3]"
   ]
  },
  {
   "cell_type": "code",
   "execution_count": 28,
   "id": "f04d601b",
   "metadata": {},
   "outputs": [
    {
     "data": {
      "text/plain": [
       "2003"
      ]
     },
     "execution_count": 28,
     "metadata": {},
     "output_type": "execute_result"
    }
   ],
   "source": [
    "'''3.In the years list, which year were you the oldest?'''\n",
    "years_list[-1]"
   ]
  },
  {
   "cell_type": "code",
   "execution_count": 29,
   "id": "ea068070",
   "metadata": {},
   "outputs": [
    {
     "data": {
      "text/plain": [
       "['mozzarella', 'cinderella', 'salmonella']"
      ]
     },
     "execution_count": 29,
     "metadata": {},
     "output_type": "execute_result"
    }
   ],
   "source": [
    "'''4. Make a list called things with these three strings as elements: &quot;mozzarella&quot;, &quot;cinderella&quot;,\n",
    "&quot;salmonella&quot;.'''\n",
    "list1=['mozzarella','cinderella','salmonella']\n",
    "list1"
   ]
  },
  {
   "cell_type": "code",
   "execution_count": 32,
   "id": "7014d191",
   "metadata": {},
   "outputs": [
    {
     "name": "stdout",
     "output_type": "stream",
     "text": [
      "Cinderella\n"
     ]
    }
   ],
   "source": [
    "'''5. Capitalize the element in things that refers to a person and then print the list. Did it change the\n",
    "element in the list?'''\n",
    "\n",
    "for i in list1:\n",
    "    if i=='cinderella':\n",
    "        print(i.capitalize())"
   ]
  },
  {
   "cell_type": "code",
   "execution_count": 33,
   "id": "54892591",
   "metadata": {},
   "outputs": [
    {
     "data": {
      "text/plain": [
       "['Groucho', 'Chico', 'Harpo']"
      ]
     },
     "execution_count": 33,
     "metadata": {},
     "output_type": "execute_result"
    }
   ],
   "source": [
    "'''6. Make a surprise list with the elements \"Groucho\",\"Chico\"and \"Harpo\".'''\n",
    "surprise_list=[\"Groucho\",\"Chico\",\"Harpo\"]\n",
    "surprise_list"
   ]
  },
  {
   "cell_type": "code",
   "execution_count": 40,
   "id": "5be29095",
   "metadata": {},
   "outputs": [
    {
     "name": "stdout",
     "output_type": "stream",
     "text": [
      "harpo opraH Harpo\n"
     ]
    }
   ],
   "source": [
    "'''7. Lowercase the last element of the surprise list, reverse it, and then capitalize it.'''\n",
    "x=surprise_list[-1].lower()\n",
    "y=surprise_list[-1][::-1]\n",
    "z=surprise_list[-1].capitalize()\n",
    "print(x,y,z)"
   ]
  },
  {
   "cell_type": "code",
   "execution_count": 42,
   "id": "2e3957b0",
   "metadata": {},
   "outputs": [
    {
     "data": {
      "text/plain": [
       "{'dog': 'chien', 'cat': 'chat', 'walrus': 'morse'}"
      ]
     },
     "execution_count": 42,
     "metadata": {},
     "output_type": "execute_result"
    }
   ],
   "source": [
    "'''8. Make an English-to-French dictionary called e2f and print it. Here are your starter words: dog is\n",
    "chien, cat is chat, and walrus is morse.'''\n",
    "\n",
    "e2f={\"dog\":\"chien\",\"cat\":\"chat\",\"walrus\":\"morse\"}\n",
    "e2f"
   ]
  },
  {
   "cell_type": "code",
   "execution_count": 44,
   "id": "0fe1e9ee",
   "metadata": {},
   "outputs": [
    {
     "data": {
      "text/plain": [
       "'morse'"
      ]
     },
     "execution_count": 44,
     "metadata": {},
     "output_type": "execute_result"
    }
   ],
   "source": [
    "'''9. Write the French word for walrus in your three-word dictionary e2f.'''\n",
    "e2f['walrus']"
   ]
  },
  {
   "cell_type": "code",
   "execution_count": 97,
   "id": "7559d1e5",
   "metadata": {},
   "outputs": [
    {
     "name": "stdout",
     "output_type": "stream",
     "text": [
      "{'dog': 'chien', 'cat': 'chat', 'walrus': 'morse'}\n"
     ]
    }
   ],
   "source": [
    "'''10. Make a French-to-English dictionary called f2e from e2f. Use the items method.'''\n",
    "l1=[]\n",
    "l2=[]\n",
    "for k,v in e2f.items():\n",
    "    k,v=v,k\n",
    "print(e2f)\n",
    "\n",
    "\n",
    "\n",
    "    "
   ]
  },
  {
   "cell_type": "code",
   "execution_count": 69,
   "id": "0215c2b6",
   "metadata": {},
   "outputs": [
    {
     "name": "stdout",
     "output_type": "stream",
     "text": [
      "None\n"
     ]
    }
   ],
   "source": [
    "print(e2f.get('chien'))"
   ]
  },
  {
   "cell_type": "code",
   "execution_count": 101,
   "id": "f27da6a7",
   "metadata": {},
   "outputs": [
    {
     "data": {
      "text/plain": [
       "{'chien': 'dog', 'chat': 'cat', 'morse': 'walrus'}"
      ]
     },
     "execution_count": 101,
     "metadata": {},
     "output_type": "execute_result"
    }
   ],
   "source": [
    "'''11. Print the English version of the French word chien using f2e.'''\n",
    "f2e=dict([(value,key) for key,value in e2f.items()])\n",
    "f2e"
   ]
  },
  {
   "cell_type": "code",
   "execution_count": 121,
   "id": "57e76424",
   "metadata": {},
   "outputs": [
    {
     "ename": "TypeError",
     "evalue": "'tuple' object is not callable",
     "output_type": "error",
     "traceback": [
      "\u001b[1;31m---------------------------------------------------------------------------\u001b[0m",
      "\u001b[1;31mTypeError\u001b[0m                                 Traceback (most recent call last)",
      "\u001b[1;32m~\\AppData\\Local\\Temp/ipykernel_19080/192423900.py\u001b[0m in \u001b[0;36m<module>\u001b[1;34m\u001b[0m\n\u001b[0;32m      3\u001b[0m \u001b[1;32mfor\u001b[0m \u001b[0mi\u001b[0m \u001b[1;32min\u001b[0m \u001b[0me2f\u001b[0m\u001b[1;33m.\u001b[0m\u001b[0mkeys\u001b[0m\u001b[1;33m(\u001b[0m\u001b[1;33m)\u001b[0m\u001b[1;33m:\u001b[0m\u001b[1;33m\u001b[0m\u001b[1;33m\u001b[0m\u001b[0m\n\u001b[0;32m      4\u001b[0m     \u001b[0ml\u001b[0m\u001b[1;33m.\u001b[0m\u001b[0mappend\u001b[0m\u001b[1;33m(\u001b[0m\u001b[0mi\u001b[0m\u001b[1;33m)\u001b[0m\u001b[1;33m\u001b[0m\u001b[1;33m\u001b[0m\u001b[0m\n\u001b[1;32m----> 5\u001b[1;33m \u001b[0mprint\u001b[0m\u001b[1;33m(\u001b[0m\u001b[0mset\u001b[0m\u001b[1;33m(\u001b[0m\u001b[0ml\u001b[0m\u001b[1;33m)\u001b[0m\u001b[1;33m)\u001b[0m\u001b[1;33m\u001b[0m\u001b[1;33m\u001b[0m\u001b[0m\n\u001b[0m",
      "\u001b[1;31mTypeError\u001b[0m: 'tuple' object is not callable"
     ]
    }
   ],
   "source": [
    "'''12. Make and print a set of English words from the keys in e2f.'''\n",
    "l=[]\n",
    "for i in e2f.keys():\n",
    "    l.append(i)\n",
    "print(set(l))"
   ]
  },
  {
   "cell_type": "code",
   "execution_count": 100,
   "id": "19694f25",
   "metadata": {},
   "outputs": [
    {
     "data": {
      "text/plain": [
       "{'chien': 'dog', 'chat': 'cat', 'morse': 'walrus'}"
      ]
     },
     "execution_count": 100,
     "metadata": {},
     "output_type": "execute_result"
    }
   ],
   "source": []
  },
  {
   "cell_type": "code",
   "execution_count": 127,
   "id": "3538145c",
   "metadata": {},
   "outputs": [
    {
     "data": {
      "text/plain": [
       "{'animals': {'cats': {'Grumpy', 'Henri', 'Lucy'}, 'octopi': {}, 'emus': {}},\n",
       " 'plants': {},\n",
       " 'others': {}}"
      ]
     },
     "execution_count": 127,
     "metadata": {},
     "output_type": "execute_result"
    }
   ],
   "source": [
    "'''13. Make a multilevel dictionary called life. Use these strings for the topmost keys: &#39;animals&#39;, &#39;plants&#39;,\n",
    "and &#39;other&#39;. Make the &#39;animals&#39; key refer to another dictionary with the keys &#39;cats&#39;, &#39;octopi&#39;, and\n",
    "&#39;emus&#39;. Make the &#39;cats&#39; key refer to a list of strings with the values &#39;Henri&#39;, &#39;Grumpy&#39;, and &#39;Lucy&#39;.\n",
    "Make all the other keys refer to empty dictionaries.'''\n",
    "\n",
    "\n",
    "\n",
    "life={\"animals\":{\"cats\":{\"Henri\",\"Grumpy\",\"Lucy\"},\"octopi\":{},\"emus\":{}},\"plants\":{},\"others\":{}}\n",
    "life"
   ]
  },
  {
   "cell_type": "code",
   "execution_count": 128,
   "id": "da9c2c69",
   "metadata": {},
   "outputs": [
    {
     "data": {
      "text/plain": [
       "dict_keys(['animals', 'plants', 'others'])"
      ]
     },
     "execution_count": 128,
     "metadata": {},
     "output_type": "execute_result"
    }
   ],
   "source": [
    "'''14. Print the top-level keys of life.'''\n",
    "\n",
    "life.keys()"
   ]
  },
  {
   "cell_type": "code",
   "execution_count": 129,
   "id": "852f0a0b",
   "metadata": {},
   "outputs": [
    {
     "data": {
      "text/plain": [
       "dict_keys(['cats', 'octopi', 'emus'])"
      ]
     },
     "execution_count": 129,
     "metadata": {},
     "output_type": "execute_result"
    }
   ],
   "source": [
    "'''15. Print the keys for life['animals'].'''\n",
    "life['animals'].keys()"
   ]
  },
  {
   "cell_type": "code",
   "execution_count": 132,
   "id": "f1a42e4b",
   "metadata": {},
   "outputs": [
    {
     "data": {
      "text/plain": [
       "{'Grumpy', 'Henri', 'Lucy'}"
      ]
     },
     "execution_count": 132,
     "metadata": {},
     "output_type": "execute_result"
    }
   ],
   "source": [
    "'''16. Print the values for life['animals']['cats']'''\n",
    "life['animals']['cats']"
   ]
  },
  {
   "cell_type": "code",
   "execution_count": null,
   "id": "0b544160",
   "metadata": {},
   "outputs": [],
   "source": []
  }
 ],
 "metadata": {
  "kernelspec": {
   "display_name": "Python 3 (ipykernel)",
   "language": "python",
   "name": "python3"
  },
  "language_info": {
   "codemirror_mode": {
    "name": "ipython",
    "version": 3
   },
   "file_extension": ".py",
   "mimetype": "text/x-python",
   "name": "python",
   "nbconvert_exporter": "python",
   "pygments_lexer": "ipython3",
   "version": "3.9.7"
  }
 },
 "nbformat": 4,
 "nbformat_minor": 5
}
